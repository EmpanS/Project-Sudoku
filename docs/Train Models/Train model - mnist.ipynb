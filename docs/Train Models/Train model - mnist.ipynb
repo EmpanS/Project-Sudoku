{
 "cells": [
  {
   "cell_type": "markdown",
   "metadata": {},
   "source": [
    "# Train first model\n",
    "In this jupyter notebook, we will train the first model on the MNIST-dataset. The MNIST-dataset contains 70,000 images (28 x 28 pixels) of handwritten digits. We will use a Convolutional neural network as a model which we will define using the Keras API running on Tensorflow. The MNIST-dataset comes with the Keras API but can also be downloaded from http://yann.lecun.com/exdb/mnist/. I'll also take the chance to thank the authors LeCun, Cortes and Burges for this amazing \"Hello World\"-dataset of image recognition.\n",
    "\n",
    "\n",
    "We start by installing useful dependencies and importing libraries."
   ]
  },
  {
   "cell_type": "code",
   "execution_count": null,
   "metadata": {},
   "outputs": [],
   "source": [
    "# Install useful dependencies\n",
    "!pip3 install --upgrade numpy\n",
    "!pip3 install --upgrade keras\n",
    "!pip3 install --upgrade tensorflow\n",
    "!pip3 install --upgrade matplotlib"
   ]
  },
  {
   "cell_type": "code",
   "execution_count": 1,
   "metadata": {},
   "outputs": [
    {
     "name": "stderr",
     "output_type": "stream",
     "text": [
      "Using TensorFlow backend.\n"
     ]
    }
   ],
   "source": [
    "# Importing useful libraries\n",
    "from __future__ import print_function\n",
    "import keras\n",
    "from keras.datasets import mnist\n",
    "from keras.models import Sequential\n",
    "from keras.layers import Dense, Dropout, Flatten\n",
    "from keras.layers import Conv2D, MaxPooling2D\n",
    "from keras.preprocessing.image import ImageDataGenerator\n",
    "import matplotlib.pyplot as plt\n",
    "\n",
    "BATCH_SIZE = 128\n",
    "NUM_CLASSES = 10\n",
    "EPOCHS = 50\n",
    "\n",
    "# Input image dimensions\n",
    "img_rows, img_cols = 28, 28"
   ]
  },
  {
   "cell_type": "code",
   "execution_count": 2,
   "metadata": {},
   "outputs": [],
   "source": [
    "# Import the data, split between train and test sets\n",
    "(X_train, y_train), (X_test, y_test) = mnist.load_data()\n",
    "\n",
    "# Normalizing the input and reshaping\n",
    "X_train = X_train.reshape(X_train.shape[0], 28, 28, 1)\n",
    "X_train = X_train.astype('float32')\n",
    "X_train /= 255\n",
    "X_test = X_test.reshape(X_test.shape[0],28,28,1)\n",
    "X_test = X_test.astype('float32')\n",
    "X_test /= 255\n",
    "\n",
    "# convert class vectors to binary class matrices\n",
    "y_train = keras.utils.to_categorical(y_train, NUM_CLASSES)\n",
    "y_test = keras.utils.to_categorical(y_test, NUM_CLASSES)"
   ]
  },
  {
   "cell_type": "code",
   "execution_count": 3,
   "metadata": {},
   "outputs": [
    {
     "name": "stdout",
     "output_type": "stream",
     "text": [
      "WARNING:tensorflow:From C:\\Users\\Emil\\Anaconda3\\lib\\site-packages\\tensorflow\\python\\framework\\op_def_library.py:263: colocate_with (from tensorflow.python.framework.ops) is deprecated and will be removed in a future version.\n",
      "Instructions for updating:\n",
      "Colocations handled automatically by placer.\n",
      "WARNING:tensorflow:From C:\\Users\\Emil\\Anaconda3\\lib\\site-packages\\keras\\backend\\tensorflow_backend.py:3733: calling dropout (from tensorflow.python.ops.nn_ops) with keep_prob is deprecated and will be removed in a future version.\n",
      "Instructions for updating:\n",
      "Please use `rate` instead of `keep_prob`. Rate should be set to `rate = 1 - keep_prob`.\n"
     ]
    }
   ],
   "source": [
    "# Define the model as a convolutional neural network.\n",
    "model = Sequential()\n",
    "model.add(Conv2D(32, kernel_size=(3, 3),\n",
    "                 activation='relu',\n",
    "                 input_shape=(28, 28, 1)))\n",
    "model.add(Conv2D(64, (3, 3), activation='relu'))\n",
    "model.add(MaxPooling2D(pool_size=(2, 2)))\n",
    "model.add(Dropout(0.25))\n",
    "model.add(Flatten())\n",
    "model.add(Dense(128, activation='relu'))\n",
    "model.add(Dropout(0.5))\n",
    "model.add(Dense(NUM_CLASSES, activation='softmax'))\n",
    "model.compile(loss=keras.losses.categorical_crossentropy,\n",
    "              optimizer=keras.optimizers.Adadelta(),\n",
    "              metrics=['accuracy'])"
   ]
  },
  {
   "cell_type": "code",
   "execution_count": 4,
   "metadata": {},
   "outputs": [],
   "source": [
    "# Applying transformation to image\n",
    "train_gen = ImageDataGenerator(rotation_range=8,\n",
    "                               width_shift_range=0.08,\n",
    "                               shear_range=0.3,\n",
    "                               height_shift_range=0.08,\n",
    "                               zoom_range=0.08)\n",
    "test_gen = ImageDataGenerator()\n",
    "training_set = train_gen.flow(X_train, y_train, batch_size=BATCH_SIZE)\n",
    "test_set = train_gen.flow(X_test, y_test, batch_size=BATCH_SIZE)"
   ]
  },
  {
   "cell_type": "markdown",
   "metadata": {},
   "source": [
    "## Training the model\n",
    "We will use an earlystopper, which is a functionality provided by the Keras API. We can specify the earlystopper to monitor the validation loss. Once the validation loss stops improving (decreasing), the earlystopper stops the training session to mitigate the risk of overfitting."
   ]
  },
  {
   "cell_type": "code",
   "execution_count": 5,
   "metadata": {},
   "outputs": [
    {
     "name": "stdout",
     "output_type": "stream",
     "text": [
      "WARNING:tensorflow:From C:\\Users\\Emil\\Anaconda3\\lib\\site-packages\\tensorflow\\python\\ops\\math_ops.py:3066: to_int32 (from tensorflow.python.ops.math_ops) is deprecated and will be removed in a future version.\n",
      "Instructions for updating:\n",
      "Use tf.cast instead.\n",
      "Epoch 1/50\n",
      "468/468 [==============================] - 39s 83ms/step - loss: 0.4552 - acc: 0.8548 - val_loss: 0.1111 - val_acc: 0.9651\n",
      "Epoch 2/50\n",
      "468/468 [==============================] - 35s 74ms/step - loss: 0.1667 - acc: 0.9498 - val_loss: 0.0759 - val_acc: 0.9762\n",
      "Epoch 3/50\n",
      "468/468 [==============================] - 34s 72ms/step - loss: 0.1331 - acc: 0.9605 - val_loss: 0.0620 - val_acc: 0.9803\n",
      "Epoch 4/50\n",
      "468/468 [==============================] - 36s 76ms/step - loss: 0.1164 - acc: 0.9659 - val_loss: 0.0476 - val_acc: 0.9853\n",
      "Epoch 5/50\n",
      "468/468 [==============================] - 33s 71ms/step - loss: 0.1031 - acc: 0.9697 - val_loss: 0.0460 - val_acc: 0.9852\n",
      "Epoch 6/50\n",
      "468/468 [==============================] - 34s 72ms/step - loss: 0.0934 - acc: 0.9721 - val_loss: 0.0467 - val_acc: 0.9851\n",
      "Epoch 7/50\n",
      "468/468 [==============================] - 34s 72ms/step - loss: 0.0891 - acc: 0.9742 - val_loss: 0.0432 - val_acc: 0.9846\n",
      "Epoch 8/50\n",
      "468/468 [==============================] - 34s 73ms/step - loss: 0.0842 - acc: 0.9746 - val_loss: 0.0448 - val_acc: 0.9864\n",
      "Epoch 9/50\n",
      "468/468 [==============================] - 34s 74ms/step - loss: 0.0814 - acc: 0.9764 - val_loss: 0.0377 - val_acc: 0.9872\n",
      "Epoch 10/50\n",
      "468/468 [==============================] - 34s 73ms/step - loss: 0.0792 - acc: 0.9768 - val_loss: 0.0407 - val_acc: 0.9859\n",
      "Epoch 11/50\n",
      "468/468 [==============================] - 38s 81ms/step - loss: 0.0742 - acc: 0.9779 - val_loss: 0.0322 - val_acc: 0.9906\n",
      "Epoch 12/50\n",
      "468/468 [==============================] - 35s 76ms/step - loss: 0.0726 - acc: 0.9779 - val_loss: 0.0410 - val_acc: 0.9870\n",
      "Epoch 13/50\n",
      "468/468 [==============================] - 47s 101ms/step - loss: 0.0725 - acc: 0.9791 - val_loss: 0.0340 - val_acc: 0.9896\n",
      "Epoch 00013: early stopping\n"
     ]
    },
    {
     "data": {
      "image/png": "[encoded data removed]",
      "text/plain": [
       "<Figure size 576x576 with 2 Axes>"
      ]
     },
     "metadata": {},
     "output_type": "display_data"
    }
   ],
   "source": [
    "# Fit the model\n",
    "earlystopper = keras.callbacks.EarlyStopping(monitor='val_loss', patience=2, verbose=1)\n",
    "session = model.fit_generator(training_set,\n",
    "                         steps_per_epoch=60000//BATCH_SIZE,\n",
    "                         validation_data=test_set,\n",
    "                         validation_steps=10000//BATCH_SIZE,\n",
    "                         epochs=EPOCHS,\n",
    "                         callbacks=[earlystopper])\n",
    "\n",
    "acc = session.history['acc']\n",
    "val_acc = session.history['val_acc']\n",
    "\n",
    "loss = session.history['loss']\n",
    "val_loss = session.history['val_loss']\n",
    "\n",
    "epochs_range = range(len(acc))\n",
    "\n",
    "# Plot the accuracy\n",
    "plt.figure(figsize=(8, 8))\n",
    "plt.subplot(1, 2, 1)\n",
    "plt.plot(epochs_range, acc, label='Training Accuracy')\n",
    "plt.plot(epochs_range, val_acc, label='Validation Accuracy')\n",
    "plt.legend(loc='lower right')\n",
    "plt.title('Training and Validation Accuracy')\n",
    "\n",
    "# Plot the loss\n",
    "plt.subplot(1, 2, 2)\n",
    "plt.plot(epochs_range, loss, label='Training Loss')\n",
    "plt.plot(epochs_range, val_loss, label='Validation Loss')\n",
    "plt.legend(loc='upper right')\n",
    "plt.title('Training and Validation Loss')\n",
    "plt.show()"
   ]
  },
  {
   "cell_type": "markdown",
   "metadata": {},
   "source": [
    "We can see that we get an amazing accuracy of roughly 98% on both the training and the validation set, with the validation set having a little better accuracy. We can also see that earlystopper kicked in and we see no signs of overfitting in the two plots above. Lastly, we have to save the model so we can import it in the next jupyter-notebook, where we will use Transfer learning to train our final model."
   ]
  },
  {
   "cell_type": "code",
   "execution_count": 7,
   "metadata": {},
   "outputs": [],
   "source": [
    "model.save(\"Trained model\")"
   ]
  }
 ],
 "metadata": {
  "kernelspec": {
   "display_name": "Python 3",
   "language": "python",
   "name": "python3"
  },
  "language_info": {
   "codemirror_mode": {
    "name": "ipython",
    "version": 3
   },
   "file_extension": ".py",
   "mimetype": "text/x-python",
   "name": "python",
   "nbconvert_exporter": "python",
   "pygments_lexer": "ipython3",
   "version": "3.6.5"
  }
 },
 "nbformat": 4,
 "nbformat_minor": 2
}
