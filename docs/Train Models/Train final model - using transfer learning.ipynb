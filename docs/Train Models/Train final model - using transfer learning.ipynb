{
 "cells": [
  {
   "cell_type": "markdown",
   "metadata": {},
   "source": [
    "# Transfer Learning\n",
    "\n",
    "In this jupyter notebook, we will train the final model using transfer learning. The idea of transfer learning is to take\n",
    "knowledge gained from solving one problem and apply this knowledge on a similar, but different, problem. We can transfer the knowledge gathered from the MNIST-dataset and apply it to our dataset. In this case, we can take our model trained on the MNIST-dataset, freeze all parameters, change the output layer and then train the model on our the new dataset. By freezing the parameters from the old model we can ensure that only the last classification layer gets trained. A nice additional benefit from this is that it will also reduce the training time significantly because we are only training the variables of our last classification layer and not the entire model.\n",
    "\n",
    "I have personally created the new dataset. I found an old Sudoku-book and took pictures of 56 unsolved Sudokus. Then, I used the data pipeline to process all 56 images resulting in 56 x 81 images. Once processed, I saved all images containing a number, summing up to a total of 1282 images. Next, I labeled the data using a Python script that quickly showed each picture and registered inputs from my keyboard. This resulted in 1282 labeled pictures which we now can use to train our final model. The training images are found in \\training images and are named on the format: Label__index.jpg\n",
    "\n",
    "We start by installing useful dependencies and importing libraries."
   ]
  },
  {
   "cell_type": "code",
   "execution_count": null,
   "metadata": {},
   "outputs": [],
   "source": [
    "# Install useful dependencies\n",
    "!pip3 install --upgrade numpy==1.16.4\n",
    "!pip3 install --upgrade keras\n",
    "!pip3 install --upgrade tensorflow\n",
    "!pip3 install --upgrade matplotlib\n",
    "!pip3 install --upgrade opencv-python\n",
    "!pip3 install --upgrade scikit-learn"
   ]
  },
  {
   "cell_type": "code",
   "execution_count": 1,
   "metadata": {},
   "outputs": [
    {
     "name": "stderr",
     "output_type": "stream",
     "text": [
      "Using TensorFlow backend.\n"
     ]
    }
   ],
   "source": [
    "# Importing useful libraries\n",
    "import numpy as np\n",
    "import keras\n",
    "from keras.layers import Dense\n",
    "from keras.models import load_model\n",
    "import os\n",
    "import cv2\n",
    "from sklearn.model_selection import train_test_split\n",
    "import matplotlib.pyplot as plt\n",
    "import zipfile\n",
    "\n",
    "BATCH_SIZE = 32\n",
    "NUM_CLASSES = 9\n",
    "EPOCHS = 50\n",
    "\n",
    "# Input image dimensions\n",
    "img_rows, img_cols = 28, 28"
   ]
  },
  {
   "cell_type": "code",
   "execution_count": 2,
   "metadata": {},
   "outputs": [],
   "source": [
    "# First, we need to extract the images from the zip file to a new folder Training images.\n",
    "archive = zipfile.ZipFile('Training images.zip')\n",
    "for file in archive.namelist():\n",
    "    archive.extract(file, os.getcwd() + '\\Training images')\n",
    "\n",
    "\n",
    "BASE_PATH = os.getcwd() + \"\\Training images\\\\\"\n",
    "NUM_EXAMPLES = len(os.listdir(BASE_PATH))\n",
    "DIM = 28\n",
    "\n",
    "# Load training and test data\n",
    "X = np.zeros((NUM_EXAMPLES, DIM, DIM, 1))\n",
    "y = np.zeros((NUM_EXAMPLES,))\n",
    "for idx, image_path in enumerate(os.listdir(BASE_PATH)):\n",
    "    image = cv2.imread(BASE_PATH + image_path, cv2.IMREAD_GRAYSCALE)\n",
    "    # Normalize and reshape image\n",
    "    image = image / 255\n",
    "    image = np.reshape(image, (DIM,DIM,1))\n",
    "    # label 0 represents number 1, ..., label 8 represents number 9\n",
    "    label = int(image_path.split(\"__\")[0]) - 1\n",
    "    X[idx] = image\n",
    "    y[idx] = label\n",
    "X_train, X_test, y_train, y_test = train_test_split(X, y, test_size=0.33, random_state=42)\n",
    "\n",
    "# Convert class vectors to binary class matrices\n",
    "y_train = keras.utils.to_categorical(y_train, NUM_CLASSES)\n",
    "y_test = keras.utils.to_categorical(y_test, NUM_CLASSES)"
   ]
  },
  {
   "cell_type": "markdown",
   "metadata": {},
   "source": [
    "Now we load the model trained on the MNIST-dataset. Then we freeze all parameters and remove the last layer. Then we add a new last layer with 9 neurons since we want to be able to predict the numbers 1-9. The first model is trained on 10 digits (0-9)."
   ]
  },
  {
   "cell_type": "code",
   "execution_count": 3,
   "metadata": {},
   "outputs": [
    {
     "name": "stdout",
     "output_type": "stream",
     "text": [
      "WARNING:tensorflow:From C:\\Users\\Emil\\Anaconda3\\lib\\site-packages\\tensorflow\\python\\framework\\op_def_library.py:263: colocate_with (from tensorflow.python.framework.ops) is deprecated and will be removed in a future version.\n",
      "Instructions for updating:\n",
      "Colocations handled automatically by placer.\n",
      "WARNING:tensorflow:From C:\\Users\\Emil\\Anaconda3\\lib\\site-packages\\keras\\backend\\tensorflow_backend.py:3445: calling dropout (from tensorflow.python.ops.nn_ops) with keep_prob is deprecated and will be removed in a future version.\n",
      "Instructions for updating:\n",
      "Please use `rate` instead of `keep_prob`. Rate should be set to `rate = 1 - keep_prob`.\n",
      "WARNING:tensorflow:From C:\\Users\\Emil\\Anaconda3\\lib\\site-packages\\tensorflow\\python\\ops\\math_ops.py:3066: to_int32 (from tensorflow.python.ops.math_ops) is deprecated and will be removed in a future version.\n",
      "Instructions for updating:\n",
      "Use tf.cast instead.\n"
     ]
    }
   ],
   "source": [
    "# Load pre-trained model\n",
    "model = load_model(\"Trained model\")\n",
    "\n",
    "# Remove last layer, set layers to un-trainable and add new output layer\n",
    "model.pop()\n",
    "for l in model.layers:\n",
    "    l.trainable = False\n",
    "model.add(Dense(NUM_CLASSES, activation='softmax', name=\"Output\"))\n",
    "\n",
    "model.compile(loss=keras.losses.categorical_crossentropy,\n",
    "              optimizer=keras.optimizers.Adadelta(),\n",
    "              metrics=['accuracy'])"
   ]
  },
  {
   "cell_type": "code",
   "execution_count": 4,
   "metadata": {},
   "outputs": [
    {
     "name": "stdout",
     "output_type": "stream",
     "text": [
      "Train on 858 samples, validate on 424 samples\n",
      "Epoch 1/50\n",
      "858/858 [==============================] - 2s 2ms/step - loss: 3.1967 - acc: 0.1830 - val_loss: 1.3542 - val_acc: 0.5094\n",
      "Epoch 2/50\n",
      "858/858 [==============================] - 0s 192us/step - loss: 1.6827 - acc: 0.4161 - val_loss: 0.5373 - val_acc: 0.9929\n",
      "Epoch 3/50\n",
      "858/858 [==============================] - 0s 179us/step - loss: 1.0172 - acc: 0.6492 - val_loss: 0.2409 - val_acc: 0.9976\n",
      "Epoch 4/50\n",
      "858/858 [==============================] - 0s 186us/step - loss: 0.6441 - acc: 0.7797 - val_loss: 0.1351 - val_acc: 0.9976\n",
      "Epoch 5/50\n",
      "858/858 [==============================] - 0s 198us/step - loss: 0.4368 - acc: 0.8671 - val_loss: 0.0857 - val_acc: 0.9976\n",
      "Epoch 6/50\n",
      "858/858 [==============================] - 0s 186us/step - loss: 0.3470 - acc: 0.8916 - val_loss: 0.0574 - val_acc: 1.0000\n",
      "Epoch 7/50\n",
      "858/858 [==============================] - 0s 184us/step - loss: 0.2564 - acc: 0.9347 - val_loss: 0.0406 - val_acc: 1.0000\n",
      "Epoch 8/50\n",
      "858/858 [==============================] - 0s 164us/step - loss: 0.2040 - acc: 0.9476 - val_loss: 0.0300 - val_acc: 1.0000\n",
      "Epoch 9/50\n",
      "858/858 [==============================] - 0s 163us/step - loss: 0.1652 - acc: 0.9604 - val_loss: 0.0228 - val_acc: 1.0000\n",
      "Epoch 10/50\n",
      "858/858 [==============================] - 0s 178us/step - loss: 0.1355 - acc: 0.9685 - val_loss: 0.0176 - val_acc: 1.0000\n",
      "Epoch 11/50\n",
      "858/858 [==============================] - 0s 193us/step - loss: 0.1069 - acc: 0.9802 - val_loss: 0.0138 - val_acc: 1.0000\n",
      "Epoch 12/50\n",
      "858/858 [==============================] - 0s 214us/step - loss: 0.0864 - acc: 0.9860 - val_loss: 0.0113 - val_acc: 1.0000\n",
      "Epoch 13/50\n",
      "858/858 [==============================] - 0s 188us/step - loss: 0.0851 - acc: 0.9883 - val_loss: 0.0089 - val_acc: 1.0000\n",
      "Epoch 14/50\n",
      "858/858 [==============================] - 0s 170us/step - loss: 0.0520 - acc: 0.9965 - val_loss: 0.0072 - val_acc: 1.0000\n",
      "Epoch 15/50\n",
      "858/858 [==============================] - 0s 162us/step - loss: 0.0597 - acc: 0.9907 - val_loss: 0.0060 - val_acc: 1.0000\n",
      "Epoch 16/50\n",
      "858/858 [==============================] - 0s 163us/step - loss: 0.0485 - acc: 0.9918 - val_loss: 0.0048 - val_acc: 1.0000\n",
      "Epoch 17/50\n",
      "858/858 [==============================] - 0s 186us/step - loss: 0.0425 - acc: 0.9930 - val_loss: 0.0041 - val_acc: 1.0000\n",
      "Epoch 18/50\n",
      "858/858 [==============================] - 0s 199us/step - loss: 0.0404 - acc: 0.9977 - val_loss: 0.0035 - val_acc: 1.0000\n",
      "Epoch 19/50\n",
      "858/858 [==============================] - 0s 177us/step - loss: 0.0322 - acc: 0.9977 - val_loss: 0.0029 - val_acc: 1.0000\n",
      "Epoch 20/50\n",
      "858/858 [==============================] - 0s 163us/step - loss: 0.0336 - acc: 0.9953 - val_loss: 0.0026 - val_acc: 1.0000\n",
      "Epoch 21/50\n",
      "858/858 [==============================] - 0s 165us/step - loss: 0.0235 - acc: 0.9988 - val_loss: 0.0023 - val_acc: 1.0000\n",
      "Epoch 22/50\n",
      "858/858 [==============================] - 0s 169us/step - loss: 0.0226 - acc: 0.9977 - val_loss: 0.0020 - val_acc: 1.0000\n",
      "Epoch 23/50\n",
      "858/858 [==============================] - 0s 172us/step - loss: 0.0238 - acc: 0.9965 - val_loss: 0.0018 - val_acc: 1.0000\n",
      "Epoch 24/50\n",
      "858/858 [==============================] - 0s 200us/step - loss: 0.0205 - acc: 0.9977 - val_loss: 0.0016 - val_acc: 1.0000\n",
      "Epoch 25/50\n",
      "858/858 [==============================] - 0s 189us/step - loss: 0.0208 - acc: 0.9977 - val_loss: 0.0014 - val_acc: 1.0000\n",
      "Epoch 26/50\n",
      "858/858 [==============================] - 0s 162us/step - loss: 0.0185 - acc: 0.9988 - val_loss: 0.0012 - val_acc: 1.0000\n",
      "Epoch 27/50\n",
      "858/858 [==============================] - 0s 170us/step - loss: 0.0183 - acc: 0.9977 - val_loss: 0.0012 - val_acc: 1.0000\n",
      "Epoch 28/50\n",
      "858/858 [==============================] - 0s 171us/step - loss: 0.0114 - acc: 1.0000 - val_loss: 0.0011 - val_acc: 1.0000\n",
      "Epoch 29/50\n",
      "858/858 [==============================] - 0s 171us/step - loss: 0.0201 - acc: 0.9953 - val_loss: 9.5158e-04 - val_acc: 1.0000\n",
      "Epoch 30/50\n",
      "858/858 [==============================] - 0s 182us/step - loss: 0.0149 - acc: 0.9988 - val_loss: 8.2904e-04 - val_acc: 1.0000\n",
      "Epoch 31/50\n",
      "858/858 [==============================] - 0s 209us/step - loss: 0.0142 - acc: 1.0000 - val_loss: 7.6286e-04 - val_acc: 1.0000\n",
      "Epoch 32/50\n",
      "858/858 [==============================] - 0s 173us/step - loss: 0.0136 - acc: 0.9977 - val_loss: 7.1773e-04 - val_acc: 1.0000\n",
      "Epoch 33/50\n",
      "858/858 [==============================] - 0s 160us/step - loss: 0.0119 - acc: 1.0000 - val_loss: 6.4210e-04 - val_acc: 1.0000\n",
      "Epoch 34/50\n",
      "858/858 [==============================] - 0s 167us/step - loss: 0.0138 - acc: 0.9965 - val_loss: 5.9197e-04 - val_acc: 1.0000\n",
      "Epoch 35/50\n",
      "858/858 [==============================] - 0s 202us/step - loss: 0.0151 - acc: 0.9965 - val_loss: 5.6598e-04 - val_acc: 1.0000\n",
      "Epoch 36/50\n",
      "858/858 [==============================] - 0s 189us/step - loss: 0.0107 - acc: 0.9988 - val_loss: 5.3103e-04 - val_acc: 1.0000\n",
      "Epoch 37/50\n",
      "858/858 [==============================] - 0s 181us/step - loss: 0.0166 - acc: 0.9953 - val_loss: 4.9859e-04 - val_acc: 1.0000\n",
      "Epoch 38/50\n",
      "858/858 [==============================] - 0s 186us/step - loss: 0.0127 - acc: 0.9977 - val_loss: 4.7694e-04 - val_acc: 1.0000\n",
      "Epoch 39/50\n",
      "858/858 [==============================] - 0s 178us/step - loss: 0.0098 - acc: 0.9988 - val_loss: 4.5456e-04 - val_acc: 1.0000\n",
      "Epoch 40/50\n",
      "858/858 [==============================] - 0s 186us/step - loss: 0.0078 - acc: 1.0000 - val_loss: 4.2320e-04 - val_acc: 1.0000\n",
      "Epoch 41/50\n",
      "858/858 [==============================] - 0s 195us/step - loss: 0.0071 - acc: 1.0000 - val_loss: 3.7551e-04 - val_acc: 1.0000\n",
      "Epoch 42/50\n",
      "858/858 [==============================] - 0s 212us/step - loss: 0.0098 - acc: 1.0000 - val_loss: 3.4743e-04 - val_acc: 1.0000\n",
      "Epoch 43/50\n",
      "858/858 [==============================] - 0s 177us/step - loss: 0.0103 - acc: 0.9977 - val_loss: 3.3145e-04 - val_acc: 1.0000\n",
      "Epoch 44/50\n",
      "858/858 [==============================] - 0s 167us/step - loss: 0.0127 - acc: 0.9965 - val_loss: 3.1865e-04 - val_acc: 1.0000\n",
      "Epoch 45/50\n",
      "858/858 [==============================] - 0s 167us/step - loss: 0.0070 - acc: 1.0000 - val_loss: 2.9582e-04 - val_acc: 1.0000\n",
      "Epoch 46/50\n",
      "858/858 [==============================] - 0s 158us/step - loss: 0.0065 - acc: 1.0000 - val_loss: 2.7415e-04 - val_acc: 1.0000\n",
      "Epoch 47/50\n",
      "858/858 [==============================] - 0s 182us/step - loss: 0.0081 - acc: 1.0000 - val_loss: 2.6554e-04 - val_acc: 1.0000\n",
      "Epoch 48/50\n",
      "858/858 [==============================] - 0s 200us/step - loss: 0.0071 - acc: 1.0000 - val_loss: 2.5634e-04 - val_acc: 1.0000\n",
      "Epoch 49/50\n",
      "858/858 [==============================] - 0s 194us/step - loss: 0.0046 - acc: 1.0000 - val_loss: 2.4331e-04 - val_acc: 1.0000\n",
      "Epoch 50/50\n",
      "858/858 [==============================] - 0s 192us/step - loss: 0.0063 - acc: 1.0000 - val_loss: 2.2730e-04 - val_acc: 1.0000\n"
     ]
    },
    {
     "data": {
      "image/png": "[encoded data removed]",
      "text/plain": [
       "<Figure size 576x576 with 2 Axes>"
      ]
     },
     "metadata": {},
     "output_type": "display_data"
    }
   ],
   "source": [
    "# Fit the model\n",
    "earlystopper = keras.callbacks.EarlyStopping(monitor='val_loss', patience=2, verbose=1)\n",
    "session = model.fit(X_train, y_train,\n",
    "                    epochs=EPOCHS,\n",
    "                    validation_data=(X_test, y_test),\n",
    "                    callbacks=[earlystopper])\n",
    "\n",
    "acc = session.history['acc']\n",
    "val_acc = session.history['val_acc']\n",
    "\n",
    "loss = session.history['loss']\n",
    "val_loss = session.history['val_loss']\n",
    "\n",
    "epochs_range = range(EPOCHS)\n",
    "\n",
    "plt.figure(figsize=(8, 8))\n",
    "plt.subplot(1, 2, 1)\n",
    "plt.plot(epochs_range, acc, label='Training Accuracy')\n",
    "plt.plot(epochs_range, val_acc, label='Validation Accuracy')\n",
    "plt.legend(loc='lower right')\n",
    "plt.title('Training and Validation Accuracy')\n",
    "\n",
    "plt.subplot(1, 2, 2)\n",
    "plt.plot(epochs_range, loss, label='Training Loss')\n",
    "plt.plot(epochs_range, val_loss, label='Validation Loss')\n",
    "plt.legend(loc='upper right')\n",
    "plt.title('Training and Validation Loss')\n",
    "plt.show()"
   ]
  },
  {
   "cell_type": "markdown",
   "metadata": {},
   "source": [
    "We can see above that the earlystopper did not kick in, the validation loss decreased continously throughout the training session, but we have a validation accuracy of 100%. At first sight, this might seem strange, but remember, we are training on computer genererated numbers, so the numbers are very similar and the model will be used to predict computer generated numbers.\n",
    "\n",
    "Now we have our final model, ready to be used in the project to predict numbers! "
   ]
  },
  {
   "cell_type": "code",
   "execution_count": 5,
   "metadata": {},
   "outputs": [],
   "source": [
    "model.save(\"../Project\" + \"\\Final model\")"
   ]
  }
 ],
 "metadata": {
  "kernelspec": {
   "display_name": "Python 3",
   "language": "python",
   "name": "python3"
  },
  "language_info": {
   "codemirror_mode": {
    "name": "ipython",
    "version": 3
   },
   "file_extension": ".py",
   "mimetype": "text/x-python",
   "name": "python",
   "nbconvert_exporter": "python",
   "pygments_lexer": "ipython3",
   "version": "3.6.5"
  }
 },
 "nbformat": 4,
 "nbformat_minor": 2
}
